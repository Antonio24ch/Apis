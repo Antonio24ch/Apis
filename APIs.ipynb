{
  "nbformat": 4,
  "nbformat_minor": 0,
  "metadata": {
    "colab": {
      "provenance": []
    },
    "kernelspec": {
      "name": "python3",
      "display_name": "Python 3"
    },
    "language_info": {
      "name": "python"
    }
  },
  "cells": [
    {
      "cell_type": "code",
      "execution_count": 1,
      "metadata": {
        "colab": {
          "base_uri": "https://localhost:8080/"
        },
        "id": "TqpQw5FnTuK5",
        "outputId": "aadf0328-ac9e-4af7-806d-ff850d730c24"
      },
      "outputs": [
        {
          "output_type": "stream",
          "name": "stdout",
          "text": [
            "<Response [200]>\n",
            "200\n",
            "{\n",
            "  \"args\": {}, \n",
            "  \"headers\": {\n",
            "    \"Accept\": \"*/*\", \n",
            "    \"Accept-Encoding\": \"gzip, deflate\", \n",
            "    \"Host\": \"httpbin.org\", \n",
            "    \"User-Agent\": \"python-requests/2.31.0\", \n",
            "    \"X-Amzn-Trace-Id\": \"Root=1-656cd4dc-2a005a1e0d54847a5ed8a439\"\n",
            "  }, \n",
            "  \"origin\": \"34.125.3.52\", \n",
            "  \"url\": \"https://httpbin.org/get\"\n",
            "}\n",
            "\n",
            "{'args': {}, 'headers': {'Accept': '*/*', 'Accept-Encoding': 'gzip, deflate', 'Host': 'httpbin.org', 'User-Agent': 'python-requests/2.31.0', 'X-Amzn-Trace-Id': 'Root=1-656cd4dc-2a005a1e0d54847a5ed8a439'}, 'origin': '34.125.3.52', 'url': 'https://httpbin.org/get'}\n",
            "34.125.3.52\n",
            "https://httpbin.org/get\n"
          ]
        }
      ],
      "source": [
        "import requests\n",
        "\n",
        "URL = 'https://httpbin.org/get'\n",
        "\n",
        "response = requests.get(URL) # petición\n",
        "print(response)\n",
        "print(response.status_code)\n",
        "print(response.text) # string\n",
        "print(response.json())\n",
        "\n",
        "payload = response.json()\n",
        "print(payload.get('origin'))\n",
        "print(response.url)\n",
        "\n"
      ]
    },
    {
      "cell_type": "markdown",
      "source": [
        "## Params"
      ],
      "metadata": {
        "id": "jVoT5-SsVAcE"
      }
    },
    {
      "cell_type": "code",
      "source": [
        "\n",
        "URL = 'https://httpbin.org/get?name=antonio&password=123&email=toch@gmail.com'\n",
        "# query: todo lo que este después del ?\n",
        "\n",
        "response = requests.get(URL)\n",
        "\n",
        "if response.status_code == 200:\n",
        "  payload = response.json()\n",
        "  params = payload['args']\n",
        "\n",
        "  print(params['name'])\n",
        "  print(params['password'])\n",
        "  print(params['email'])\n"
      ],
      "metadata": {
        "colab": {
          "base_uri": "https://localhost:8080/"
        },
        "id": "uTGMB51rT7MH",
        "outputId": "7de5d785-b53d-4174-9c4a-d37542ac185a"
      },
      "execution_count": 2,
      "outputs": [
        {
          "output_type": "stream",
          "name": "stdout",
          "text": [
            "antonio\n",
            "123\n",
            "toch@gmail.com\n"
          ]
        }
      ]
    },
    {
      "cell_type": "markdown",
      "source": [
        "### POST\n",
        "crear nuevos recursos en el servidor"
      ],
      "metadata": {
        "id": "z2wu6xuV65iw"
      }
    },
    {
      "cell_type": "code",
      "source": [
        "URL = 'https://httpbin.org/post'\n",
        "\n",
        "data = { #se envia en el cuerpo y no en la dirección\n",
        "      'username': 'antonio',\n",
        "      'password': 'pass123'\n",
        "}\n",
        "\n",
        "response = requests.post(URL,data=data)\n",
        "\n",
        "if response.status_code == 200:\n",
        "  payload = response.json()\n",
        "  print(response.text)\n",
        "  print(response.url)"
      ],
      "metadata": {
        "id": "l4vNCU6hT7Rw",
        "colab": {
          "base_uri": "https://localhost:8080/"
        },
        "outputId": "5f461466-ceba-4437-f275-25ca668e1f3a"
      },
      "execution_count": 3,
      "outputs": [
        {
          "output_type": "stream",
          "name": "stdout",
          "text": [
            "{\n",
            "  \"args\": {}, \n",
            "  \"data\": \"\", \n",
            "  \"files\": {}, \n",
            "  \"form\": {\n",
            "    \"password\": \"pass123\", \n",
            "    \"username\": \"antonio\"\n",
            "  }, \n",
            "  \"headers\": {\n",
            "    \"Accept\": \"*/*\", \n",
            "    \"Accept-Encoding\": \"gzip, deflate\", \n",
            "    \"Content-Length\": \"33\", \n",
            "    \"Content-Type\": \"application/x-www-form-urlencoded\", \n",
            "    \"Host\": \"httpbin.org\", \n",
            "    \"User-Agent\": \"python-requests/2.31.0\", \n",
            "    \"X-Amzn-Trace-Id\": \"Root=1-656cd4dc-2752fbf32656e37d5b904904\"\n",
            "  }, \n",
            "  \"json\": null, \n",
            "  \"origin\": \"34.125.3.52\", \n",
            "  \"url\": \"https://httpbin.org/post\"\n",
            "}\n",
            "\n",
            "https://httpbin.org/post\n"
          ]
        }
      ]
    },
    {
      "cell_type": "markdown",
      "source": [
        "### Encabezados"
      ],
      "metadata": {
        "id": "bUGNjRWT-mGn"
      }
    },
    {
      "cell_type": "code",
      "source": [
        "URL = 'https://httpbin.org/post'\n",
        "\n",
        "headers = { #info publica\n",
        "    'course': 'curso de python',\n",
        "    'version': '2.0'\n",
        "}\n",
        "\n",
        "params = { #info publica\n",
        "    'platform': 'cursosonline'\n",
        "}\n",
        "\n",
        "data = {\n",
        "    'username': 'antonio',\n",
        "    'password': 'pass123'\n",
        "}\n",
        "response = requests.post(URL,headers=headers, params=params,data=data)\n",
        "\n",
        "if response.status_code == 200:\n",
        "  print(response.text)\n"
      ],
      "metadata": {
        "id": "-pWaoop_T7US",
        "colab": {
          "base_uri": "https://localhost:8080/"
        },
        "outputId": "1d8b8b3f-c5e8-40c7-def0-8855bf9937d8"
      },
      "execution_count": 4,
      "outputs": [
        {
          "output_type": "stream",
          "name": "stdout",
          "text": [
            "{\n",
            "  \"args\": {\n",
            "    \"platform\": \"cursosonline\"\n",
            "  }, \n",
            "  \"data\": \"\", \n",
            "  \"files\": {}, \n",
            "  \"form\": {\n",
            "    \"password\": \"pass123\", \n",
            "    \"username\": \"antonio\"\n",
            "  }, \n",
            "  \"headers\": {\n",
            "    \"Accept\": \"*/*\", \n",
            "    \"Accept-Encoding\": \"gzip, deflate\", \n",
            "    \"Content-Length\": \"33\", \n",
            "    \"Content-Type\": \"application/x-www-form-urlencoded\", \n",
            "    \"Course\": \"curso de python\", \n",
            "    \"Host\": \"httpbin.org\", \n",
            "    \"User-Agent\": \"python-requests/2.31.0\", \n",
            "    \"Version\": \"2.0\", \n",
            "    \"X-Amzn-Trace-Id\": \"Root=1-656cd4dd-6930c88437bc1dd65472031c\"\n",
            "  }, \n",
            "  \"json\": null, \n",
            "  \"origin\": \"34.125.3.52\", \n",
            "  \"url\": \"https://httpbin.org/post?platform=cursosonline\"\n",
            "}\n",
            "\n"
          ]
        }
      ]
    },
    {
      "cell_type": "markdown",
      "source": [
        "## Ejercicio"
      ],
      "metadata": {
        "id": "nJDBiwTuA2zS"
      }
    },
    {
      "cell_type": "code",
      "source": [
        "URL = 'https://randomuser.me/api/'\n",
        "\n",
        "response = requests.get(URL)\n",
        "\n",
        "if response.status_code == 200:\n",
        "  print(response.text)\n"
      ],
      "metadata": {
        "colab": {
          "base_uri": "https://localhost:8080/"
        },
        "id": "C67tYoD8AisB",
        "outputId": "c48f9f63-cad9-4f49-e9f2-bb9dc8ea67bd"
      },
      "execution_count": 5,
      "outputs": [
        {
          "output_type": "stream",
          "name": "stdout",
          "text": [
            "{\"results\":[{\"gender\":\"female\",\"name\":{\"title\":\"Mrs\",\"first\":\"Veronica\",\"last\":\"Nelson\"},\"location\":{\"street\":{\"number\":6518,\"name\":\"Blossom Hill Rd\"},\"city\":\"Visalia\",\"state\":\"Arizona\",\"country\":\"United States\",\"postcode\":72916,\"coordinates\":{\"latitude\":\"84.5295\",\"longitude\":\"162.8853\"},\"timezone\":{\"offset\":\"+3:00\",\"description\":\"Baghdad, Riyadh, Moscow, St. Petersburg\"}},\"email\":\"veronica.nelson@example.com\",\"login\":{\"uuid\":\"fa69a0f0-b697-4b88-8c16-bc1350814610\",\"username\":\"happypanda814\",\"password\":\"avatar\",\"salt\":\"xIBTIHrV\",\"md5\":\"15b8667ee8d76b028da1811866cdeaff\",\"sha1\":\"cb2a8d58fb67b9e157ffe97ef8049575c032dda5\",\"sha256\":\"1ccbfa0725a802ae20a958f214a5c9dba6237a78dc76f37e6524a34076c2ccce\"},\"dob\":{\"date\":\"1948-05-09T15:03:11.180Z\",\"age\":75},\"registered\":{\"date\":\"2006-07-17T17:03:39.984Z\",\"age\":17},\"phone\":\"(250) 430-0968\",\"cell\":\"(696) 543-6705\",\"id\":{\"name\":\"SSN\",\"value\":\"206-71-8419\"},\"picture\":{\"large\":\"https://randomuser.me/api/portraits/women/30.jpg\",\"medium\":\"https://randomuser.me/api/portraits/med/women/30.jpg\",\"thumbnail\":\"https://randomuser.me/api/portraits/thumb/women/30.jpg\"},\"nat\":\"US\"}],\"info\":{\"seed\":\"2cbeb6cebdd1328a\",\"results\":1,\"page\":1,\"version\":\"1.4\"}}\n"
          ]
        }
      ]
    },
    {
      "cell_type": "code",
      "source": [
        "URL = 'https://randomuser.me/api/'  #?results=5'\n",
        "\n",
        "count = int(input('ingresa cantidad de usuarios: '))\n",
        "response = requests.get(URL, params={'results':count})\n",
        "if response.status_code == 200:\n",
        "  payload = response.json()\n",
        "  results = payload.get('results')\n",
        "\n",
        "  for user in results:\n",
        "    name = user.get('name')\n",
        "\n",
        "    print(f\"{name['title']} {name['first']} \")"
      ],
      "metadata": {
        "colab": {
          "base_uri": "https://localhost:8080/"
        },
        "id": "B6jSeZDyAiuO",
        "outputId": "c3fdae6f-aa22-40ab-a72b-204f12bd171f"
      },
      "execution_count": 6,
      "outputs": [
        {
          "output_type": "stream",
          "name": "stdout",
          "text": [
            "ingresa cantidad de usuarios: 12\n",
            "Ms Patricia \n",
            "Mr Svitoslav \n",
            "Mr Roope \n",
            "Mr Diego \n",
            "Miss Claudia \n",
            "Miss Karen \n",
            "Ms Victoria \n",
            "Mademoiselle Anna \n",
            "Ms Milana \n",
            "Mr Elias \n",
            "Mrs Lotta \n",
            "Mr Smaïl \n"
          ]
        }
      ]
    },
    {
      "cell_type": "markdown",
      "source": [
        "### PUT Y DELETE"
      ],
      "metadata": {
        "id": "X8ZIflU7FEws"
      }
    },
    {
      "cell_type": "code",
      "source": [
        "URL = 'https://httpbin.org/put'\n",
        "\n",
        "response = requests.put(URL, params={'name':'antonio'},\n",
        "                             headers={'version':'2.0'},\n",
        "                             data = {'id': 1})\n",
        "\n",
        "if response.status_code == 200:\n",
        "  print(response.text)"
      ],
      "metadata": {
        "colab": {
          "base_uri": "https://localhost:8080/"
        },
        "id": "5-PsNYx-Aiwn",
        "outputId": "a6ccb53e-4101-4bc4-d8d2-3f20eb012b2f"
      },
      "execution_count": 7,
      "outputs": [
        {
          "output_type": "stream",
          "name": "stdout",
          "text": [
            "{\n",
            "  \"args\": {\n",
            "    \"name\": \"antonio\"\n",
            "  }, \n",
            "  \"data\": \"\", \n",
            "  \"files\": {}, \n",
            "  \"form\": {\n",
            "    \"id\": \"1\"\n",
            "  }, \n",
            "  \"headers\": {\n",
            "    \"Accept\": \"*/*\", \n",
            "    \"Accept-Encoding\": \"gzip, deflate\", \n",
            "    \"Content-Length\": \"4\", \n",
            "    \"Content-Type\": \"application/x-www-form-urlencoded\", \n",
            "    \"Host\": \"httpbin.org\", \n",
            "    \"User-Agent\": \"python-requests/2.31.0\", \n",
            "    \"Version\": \"2.0\", \n",
            "    \"X-Amzn-Trace-Id\": \"Root=1-656cd4e3-36d07f4d6192ee5f633780da\"\n",
            "  }, \n",
            "  \"json\": null, \n",
            "  \"origin\": \"34.125.3.52\", \n",
            "  \"url\": \"https://httpbin.org/put?name=antonio\"\n",
            "}\n",
            "\n"
          ]
        }
      ]
    },
    {
      "cell_type": "code",
      "source": [
        "URL = 'https://httpbin.org/delete'\n",
        "\n",
        "response = requests.put(URL, params={'name':'antonio'},\n",
        "                             headers={'version':'2.0'},\n",
        "                             data = {'id': 1})\n",
        "\n",
        "if response.status_code == 200:\n",
        "  print(response.text)"
      ],
      "metadata": {
        "id": "yGwt7rXxT7W-"
      },
      "execution_count": 8,
      "outputs": []
    },
    {
      "cell_type": "markdown",
      "source": [
        "### Descargar archivos"
      ],
      "metadata": {
        "id": "zJOag8Qz0p4X"
      }
    },
    {
      "cell_type": "code",
      "source": [
        "URL = 'https://codigofacilito.com/images/cody'\n",
        "\n",
        "response = requests.get(URL, stream=True) #stream, tunel para que no se cierre la petición hasta que se descargue\n",
        "\n",
        "\n",
        "if response.status_code == 200:\n",
        "   with open('images/cody.png','wb') as file:\n",
        "      for chunk in response.iter_content(1024): #1024 bits\n",
        "        file.write(chunk)\n"
      ],
      "metadata": {
        "id": "h_F4HH3yT7Y-"
      },
      "execution_count": 9,
      "outputs": []
    },
    {
      "cell_type": "markdown",
      "source": [
        "### Cookies"
      ],
      "metadata": {
        "id": "erKDPhA30t1L"
      }
    },
    {
      "cell_type": "code",
      "source": [
        "URL = 'https://httpbin.org/cookies'\n",
        "\n",
        "cookies = {\n",
        "    'session': 'abc123',\n",
        "    'name': 'abc'\n",
        "}\n",
        "\n",
        "response = requests.get(URL,cookies=cookies)\n",
        "\n",
        "if response.status_code == 200:\n",
        "  print(response.text)"
      ],
      "metadata": {
        "colab": {
          "base_uri": "https://localhost:8080/"
        },
        "id": "A27vuTmj0tQt",
        "outputId": "81d7a10d-fb71-44c8-903f-446d54568439"
      },
      "execution_count": 10,
      "outputs": [
        {
          "output_type": "stream",
          "name": "stdout",
          "text": [
            "{\n",
            "  \"cookies\": {\n",
            "    \"name\": \"abc\", \n",
            "    \"session\": \"abc123\"\n",
            "  }\n",
            "}\n",
            "\n"
          ]
        }
      ]
    },
    {
      "cell_type": "markdown",
      "source": [
        "### Session"
      ],
      "metadata": {
        "id": "ZAfKML221yU1"
      }
    },
    {
      "cell_type": "code",
      "source": [
        "from getpass import getpass\n",
        "\n",
        "URL = 'https://httpbin.org/basic-auth/antonio/12345'\n",
        "\n",
        "\n",
        "password= getpass('ingresa contraseña')\n",
        "session = requests.Session()\n",
        "session.auth = ('antonio', password)\n",
        "\n",
        "response = session.get(URL)\n",
        "\n",
        "if response.status_code == 200:\n",
        "  print(response.json())\n",
        "\n",
        "\n",
        "if response.status_code == 401:\n",
        "  print('unsuccessfull authentication')"
      ],
      "metadata": {
        "colab": {
          "base_uri": "https://localhost:8080/"
        },
        "id": "mloQ5JR70tTQ",
        "outputId": "da3c9d59-449e-4092-a525-53c4c079f629"
      },
      "execution_count": 11,
      "outputs": [
        {
          "output_type": "stream",
          "name": "stdout",
          "text": [
            "ingresa contraseña··········\n",
            "{'authenticated': True, 'user': 'antonio'}\n"
          ]
        }
      ]
    },
    {
      "cell_type": "markdown",
      "source": [
        "### Proyecto"
      ],
      "metadata": {
        "id": "8doMUoZ-3bk3"
      }
    },
    {
      "cell_type": "code",
      "source": [
        "CLIENT_ID = '*********************'\n",
        "SECRET_ID = '****************'"
      ],
      "metadata": {
        "id": "F3IpwbCk0tYH"
      },
      "execution_count": 12,
      "outputs": []
    },
    {
      "cell_type": "code",
      "source": [
        "import webbrowser\n",
        "\n",
        "# Obtener código\n",
        "def get_url_code():\n",
        "  url = 'https://github.com/login/oauth/authorize'\n",
        "  params = {\n",
        "    'client_id': '524e2e974105095f2909',\n",
        "    'scope': 'user'\n",
        "  }\n",
        "\n",
        "\n",
        "  response = requests.get(URL, params=params)\n",
        "  return response.url\n",
        "\n",
        "# Obtener access token\n",
        "def get_access_token(code):\n",
        "  url = 'https://github.com/login/oauth/access_token'\n",
        "  params = {\n",
        "    'client_id': CLIENT_ID,\n",
        "    'cliente_secret': SECRET_ID,\n",
        "    'code': code\n",
        "  }\n",
        "\n",
        "  headers = {\n",
        "      'Accept': 'application/json'\n",
        "  }\n",
        "\n",
        "  response = requests.post(URL, headers=headers)\n",
        "  if response.status_code == 200:\n",
        "    payload = response.text\n",
        "    return payload.get('access_token')\n",
        "\n",
        "\n",
        "# obtener al usuario autenticado\n",
        "def get_user(access_token):\n",
        "    url = 'https://api.github.com/user'\n",
        "\n",
        "    headers = {\n",
        "        \"Accept\": \"application/vnd.github+json\",\n",
        "        \"Authorization\": f\"Bearer {token}\"\n",
        "    }\n",
        "\n",
        "    response = requests.post(URL, headers=headers)\n",
        "    if response.status_code == 200:\n",
        "      return response.json()\n",
        "\n",
        "if __name__ == '__main__':\n",
        "  url = get_url_code()\n",
        "  webbrowser.open(url)\n",
        "\n",
        "  code = input('Ingresa el código: ')\n",
        "  code = code.strip().replace('\\n',' ')\n",
        "\n",
        "  access_token = get_access_token(code)\n",
        "  print(access_token)\n",
        "\n",
        "  user = get_user(access_token)\n",
        "  print(user)"
      ],
      "metadata": {
        "colab": {
          "base_uri": "https://localhost:8080/",
          "height": 383
        },
        "id": "_jCcSc-U_DBK",
        "outputId": "e08f3afa-dc71-419f-d237-fbbe6e104a44"
      },
      "execution_count": 13,
      "outputs": [
        {
          "output_type": "stream",
          "name": "stdout",
          "text": [
            "Ingresa el código: **********\n",
            "None\n"
          ]
        },
        {
          "output_type": "error",
          "ename": "NameError",
          "evalue": "ignored",
          "traceback": [
            "\u001b[0;31m---------------------------------------------------------------------------\u001b[0m",
            "\u001b[0;31mNameError\u001b[0m                                 Traceback (most recent call last)",
            "\u001b[0;32m<ipython-input-13-dc411a6b4402>\u001b[0m in \u001b[0;36m<cell line: 47>\u001b[0;34m()\u001b[0m\n\u001b[1;32m     55\u001b[0m   \u001b[0mprint\u001b[0m\u001b[0;34m(\u001b[0m\u001b[0maccess_token\u001b[0m\u001b[0;34m)\u001b[0m\u001b[0;34m\u001b[0m\u001b[0;34m\u001b[0m\u001b[0m\n\u001b[1;32m     56\u001b[0m \u001b[0;34m\u001b[0m\u001b[0m\n\u001b[0;32m---> 57\u001b[0;31m   \u001b[0muser\u001b[0m \u001b[0;34m=\u001b[0m \u001b[0mget_user\u001b[0m\u001b[0;34m(\u001b[0m\u001b[0maccess_token\u001b[0m\u001b[0;34m)\u001b[0m\u001b[0;34m\u001b[0m\u001b[0;34m\u001b[0m\u001b[0m\n\u001b[0m\u001b[1;32m     58\u001b[0m   \u001b[0mprint\u001b[0m\u001b[0;34m(\u001b[0m\u001b[0muser\u001b[0m\u001b[0;34m)\u001b[0m\u001b[0;34m\u001b[0m\u001b[0;34m\u001b[0m\u001b[0m\n",
            "\u001b[0;32m<ipython-input-13-dc411a6b4402>\u001b[0m in \u001b[0;36mget_user\u001b[0;34m(access_token)\u001b[0m\n\u001b[1;32m     38\u001b[0m     headers = {\n\u001b[1;32m     39\u001b[0m         \u001b[0;34m\"Accept\"\u001b[0m\u001b[0;34m:\u001b[0m \u001b[0;34m\"application/vnd.github+json\"\u001b[0m\u001b[0;34m,\u001b[0m\u001b[0;34m\u001b[0m\u001b[0;34m\u001b[0m\u001b[0m\n\u001b[0;32m---> 40\u001b[0;31m         \u001b[0;34m\"Authorization\"\u001b[0m\u001b[0;34m:\u001b[0m \u001b[0;34mf\"Bearer {token}\"\u001b[0m\u001b[0;34m\u001b[0m\u001b[0;34m\u001b[0m\u001b[0m\n\u001b[0m\u001b[1;32m     41\u001b[0m     }\n\u001b[1;32m     42\u001b[0m \u001b[0;34m\u001b[0m\u001b[0m\n",
            "\u001b[0;31mNameError\u001b[0m: name 'token' is not defined"
          ]
        }
      ]
    }
  ]
}